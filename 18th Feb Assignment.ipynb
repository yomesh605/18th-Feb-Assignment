{
 "cells": [
  {
   "cell_type": "code",
   "execution_count": null,
   "id": "a0d8825e-00cb-4d16-9a94-99aa3e2d67a6",
   "metadata": {},
   "outputs": [],
   "source": [
    "Q1. What is an API? Give an example, where an API is used in real life."
   ]
  },
  {
   "cell_type": "code",
   "execution_count": null,
   "id": "5a4dd9ef-7119-43c9-b1a5-af623c615840",
   "metadata": {},
   "outputs": [],
   "source": [
    "APIs are mechanisms that enable two software components to communicate with each other using a set of definitions and protocols. For example, the weather bureau’s software system contains daily weather data. \n",
    "The weather app on your phone “talks” to this system via APIs and shows you daily weather updates on your phone."
   ]
  },
  {
   "cell_type": "code",
   "execution_count": null,
   "id": "5eee2f20-9ada-4328-95a0-6376ce4877b8",
   "metadata": {},
   "outputs": [],
   "source": [
    "Q2. Give advantages and disadvantages of using API."
   ]
  },
  {
   "cell_type": "code",
   "execution_count": null,
   "id": "a87939d5-92aa-4e6d-84d1-5d9321729cee",
   "metadata": {},
   "outputs": [],
   "source": [
    "Advantages:\n",
    "    \n",
    "Increased Interoperability: API solutions enable different software systems to communicate with each other, regardless of their programming language or platform. This enhances the interoperability between systems, allowing for the exchange of data and functionality.\n",
    "Improved Efficiency: API driven infrastructures enable developers to reuse code and functionality from existing software systems, saving time and reducing the amount of code that needs to be written from scratch.\n",
    "Better User Experience: APIs can enable third-party developers to create applications that integrate with existing software systems, providing a better user experience and increased functionality.\n",
    "\n",
    "Disadvantages:\n",
    "    \n",
    "Security Concerns: API infrastructures can be vulnerable to security breaches, such as SQL injection attacks and cross-site scripting (XSS) attacks, making it crucial to implement security measures to protect against these threats.\n",
    "Complexity: APIs can be complex, requiring a significant amount of development effort to implement and maintain.\n",
    "Compatibility Issues: APIs can have compatibility issues between different versions of the same software system or between different systems, which can lead to errors and system failures."
   ]
  },
  {
   "cell_type": "code",
   "execution_count": null,
   "id": "971caf84-a518-4920-b992-0634f4725fc4",
   "metadata": {},
   "outputs": [],
   "source": [
    "Q3. What is a Web API? Differentiate between API and Web API."
   ]
  },
  {
   "cell_type": "code",
   "execution_count": null,
   "id": "4f6f7ed4-06f7-49d1-9977-f2e3cddc32b1",
   "metadata": {},
   "outputs": [],
   "source": [
    "Web API is an API as the name suggests, it can be accessed over the web using the HTTP protocol. \n",
    "It is a framework that helps you to create and develop HTTP based RESTFUL services. The web API can be developed by using different technologies such as java, ASP.NET, etc. Web API is used in either a web server or a web browser. \n",
    "Basically Web API is a web development concept. It is limited to Web Application’s client-side and also it does not include a web server or web browser details. \n",
    "If an application is to be used on a distributed system and to provide services on different devices like laptops, mobiles, etc then web API services are used. \n",
    "Web API is the enhanced form of the web application.\n",
    "\n",
    "Differentiate Betweem API and WEB-API:\n",
    "    \n",
    "Web service is a collection of open source protocols and standards used for exchanging data between systems or applications, whereas API is a software interface that allows two applications to interact with each other without any user involvement.\n",
    "Web service is used for REST, SOAP, and XML-RPC for communication, while API is used for any style of communication.\n",
    "Web service supports only HTTP protocol, whereas API supports HTTP/HTTPS protocol.\n",
    "All Web services are APIs, but all APIs are not web services.\n",
    "Web service supports XML, while API supports XML and JSON."
   ]
  },
  {
   "cell_type": "code",
   "execution_count": null,
   "id": "75a46544-5281-40a3-9c2e-64ba8f367f0d",
   "metadata": {},
   "outputs": [],
   "source": [
    "Q4. Explain REST and SOAP Architecture. Mention shortcomings of SOAP."
   ]
  },
  {
   "cell_type": "code",
   "execution_count": null,
   "id": "7cb74ed7-c9ae-4d66-bdd3-ebbc539963d8",
   "metadata": {},
   "outputs": [],
   "source": [
    "Rest is used for Web-Based API, where via HTTP Protocol data is Transferred, update, insert or Delete\n",
    "Put, Get,Post,Delete. This Architecture is designed to do a Communication between Application Over the Web.\n",
    "Rest is Simple, scalable,Flexible. Rest is a stateless Protocol(Whenever we are doing any transaction.so, it will not Store), Layered Protocol and we can catch(for this functionalities are given) it also.\n",
    "\n",
    "Soap Architecture is XML Based, It folllows Messaging Protocol, XML Uses WSDL(Web Service Description Language) where we give Commands & Instructions\n",
    "with Help of that Soap Architecture Communicates in Between. It Supports HTTP, SMTP, TCP/IP Protocol\n",
    "Soap is Lightweighted Protocol compared to Rest, Heavy Transactions are not made here.its little bit complex\n",
    "more security in this Architecture.\n",
    "\n",
    "Shortcomings of SOAP:\n",
    "    \n",
    "As SOAP can only transfer messages as XML files, your SOAP API will be less performant, as XML is a verbose format compared to JSON. \n",
    "API calls made to your server will need more bandwidth and it will take more time to process the request and transfer the response back to the client."
   ]
  },
  {
   "cell_type": "code",
   "execution_count": null,
   "id": "d4b9063b-a69b-48ad-9d0f-74eca540fc89",
   "metadata": {},
   "outputs": [],
   "source": [
    "Q5. Differentiate between REST and SOAP."
   ]
  },
  {
   "cell_type": "code",
   "execution_count": null,
   "id": "fc92d841-bb1e-482b-ac1b-6ae18571aa76",
   "metadata": {},
   "outputs": [],
   "source": [
    "SOAP is a protocol whereas REST is an architectural pattern.\n",
    "SOAP uses service interfaces to expose its functionality to client applications while REST uses Uniform Service locators to access to the components on the hardware device.\n",
    "SOAP needs more bandwidth for its usage whereas REST doesn’t need much bandwidth.\n",
    "Comparing SOAP vs REST API, SOAP only works with XML formats whereas REST work with plain text, XML, HTML and JSON.\n",
    "All Web services are APIs, but all APIs are not web services.\n",
    "SOAP cannot make use of REST whereas REST can make use of SOAP."
   ]
  }
 ],
 "metadata": {
  "kernelspec": {
   "display_name": "Python 3 (ipykernel)",
   "language": "python",
   "name": "python3"
  },
  "language_info": {
   "codemirror_mode": {
    "name": "ipython",
    "version": 3
   },
   "file_extension": ".py",
   "mimetype": "text/x-python",
   "name": "python",
   "nbconvert_exporter": "python",
   "pygments_lexer": "ipython3",
   "version": "3.10.6"
  }
 },
 "nbformat": 4,
 "nbformat_minor": 5
}
